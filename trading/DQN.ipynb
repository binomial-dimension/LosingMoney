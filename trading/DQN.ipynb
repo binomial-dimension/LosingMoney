{
 "cells": [
  {
   "cell_type": "code",
   "execution_count": 6,
   "metadata": {},
   "outputs": [],
   "source": [
    "import numpy as np\n",
    "import pandas as pd\n",
    "import time\n",
    "import matplotlib.pyplot as plt\n",
    "import seaborn as sns\n",
    "import random\n",
    "import torch\n",
    "sns.set()"
   ]
  },
  {
   "cell_type": "code",
   "execution_count": 5,
   "metadata": {},
   "outputs": [],
   "source": [
    "data = pd.read_csv('../data/processed.csv')\n",
    "from datetime import datetime\n",
    "data['date'] = pd.to_datetime(data['date'])\n",
    "train = data.loc[data['date'] < pd.to_datetime('2020-01-01')]\n",
    "test = data.loc[data['date'] >= pd.to_datetime('2020-01-09')]"
   ]
  },
  {
   "cell_type": "code",
   "execution_count": 7,
   "metadata": {},
   "outputs": [],
   "source": [
    "model = torch.load('../model/checkpoint/pytorch/model_pytorch.pth')\n",
    "input_size = 40\n",
    "def predict(input_window):\n",
    "    input_window = torch.tensor(input_window).float()\n",
    "    input_window = input_window.reshape(1, input_size)\n",
    "    pred = model(input_window)\n",
    "    return pred\n"
   ]
  }
 ],
 "metadata": {
  "kernelspec": {
   "display_name": "data",
   "language": "python",
   "name": "python3"
  },
  "language_info": {
   "codemirror_mode": {
    "name": "ipython",
    "version": 3
   },
   "file_extension": ".py",
   "mimetype": "text/x-python",
   "name": "python",
   "nbconvert_exporter": "python",
   "pygments_lexer": "ipython3",
   "version": "3.9.15"
  },
  "orig_nbformat": 4,
  "vscode": {
   "interpreter": {
    "hash": "8397af327884a79c693557d82a0c1a3e602bd00269a93946dddfc7cd502b77fb"
   }
  }
 },
 "nbformat": 4,
 "nbformat_minor": 2
}
